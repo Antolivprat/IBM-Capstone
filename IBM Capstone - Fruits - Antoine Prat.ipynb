{
 "cells": [
  {
   "cell_type": "markdown",
   "metadata": {},
   "source": [
    "### Import functions"
   ]
  },
  {
   "cell_type": "code",
   "execution_count": 16,
   "metadata": {},
   "outputs": [],
   "source": [
    "%matplotlib inline\n",
    "import warnings\n",
    "\n",
    "import numpy as np\n",
    "import os\n",
    "import glob\n",
    "import pandas as pd\n",
    "import matplotlib.pyplot as plt\n",
    "\n",
    "from keras.preprocessing import image\n",
    "from keras.applications.vgg16 import preprocess_input\n",
    "import matplotlib.pyplot as plt \n",
    "from PIL import Image "
   ]
  },
  {
   "cell_type": "code",
   "execution_count": 17,
   "metadata": {},
   "outputs": [],
   "source": [
    "def load_image(img_path):\n",
    "    img = image.load_img(img_path, target_size=(56,56))\n",
    "    img = image.img_to_array(img)\n",
    "    img = np.expand_dims(img, axis=0)\n",
    "    return img \n",
    "\n",
    "def load_image_keras(img_path):\n",
    "    img = image.load_img(img_path, target_size=(224,224))\n",
    "    img = image.img_to_array(img)\n",
    "    img = np.expand_dims(img, axis=0)\n",
    "    img = preprocess_input(img)\n",
    "    return img "
   ]
  },
  {
   "cell_type": "markdown",
   "metadata": {},
   "source": [
    "# Load data"
   ]
  },
  {
   "cell_type": "code",
   "execution_count": 18,
   "metadata": {
    "scrolled": true
   },
   "outputs": [
    {
     "name": "stdout",
     "output_type": "stream",
     "text": [
      "Apple Braeburn\n",
      "Apple Crimson Snow\n",
      "Apple Golden 1\n",
      "Apple Golden 2\n",
      "Apple Golden 3\n",
      "Apple Granny Smith\n",
      "Apple Pink Lady\n",
      "Apple Red 1\n",
      "Apple Red 2\n",
      "Apple Red 3\n",
      "Apple Red Delicious\n",
      "Apple Red Yellow 1\n",
      "Apple Red Yellow 2\n",
      "Apricot\n",
      "Avocado\n",
      "Avocado ripe\n",
      "Banana\n",
      "Banana Lady Finger\n",
      "Banana Red\n",
      "Cactus fruit\n",
      "Cantaloupe 1\n",
      "Cantaloupe 2\n",
      "Carambula\n",
      "Cherry 1\n",
      "Cherry 2\n",
      "Cherry Rainier\n",
      "Cherry Wax Black\n",
      "Cherry Wax Red\n",
      "Cherry Wax Yellow\n",
      "Chestnut\n",
      "Clementine\n",
      "Cocos\n",
      "Dates\n",
      "Granadilla\n",
      "Grape Blue\n",
      "Grape Pink\n",
      "Grape White\n",
      "Grape White 2\n",
      "Grape White 3\n",
      "Grape White 4\n",
      "Grapefruit Pink\n",
      "Grapefruit White\n",
      "Guava\n",
      "Hazelnut\n",
      "Huckleberry\n",
      "Kaki\n",
      "Kiwi\n",
      "Kohlrabi\n",
      "Kumquats\n",
      "Lemon\n",
      "Lemon Meyer\n",
      "Limes\n",
      "Lychee\n",
      "Mandarine\n",
      "Mango\n",
      "Mangostan\n",
      "Maracuja\n",
      "Melon Piel de Sapo\n",
      "Mulberry\n",
      "Nectarine\n",
      "Orange\n",
      "Papaya\n",
      "Passion Fruit\n",
      "Peach\n",
      "Peach 2\n",
      "Peach Flat\n",
      "Pear\n",
      "Pear Abate\n",
      "Pear Kaiser\n",
      "Pear Monster\n",
      "Pear Red\n",
      "Pear Williams\n",
      "Pepino\n",
      "Pepper Green\n",
      "Pepper Red\n",
      "Pepper Yellow\n",
      "Physalis\n",
      "Physalis with Husk\n",
      "Pineapple\n",
      "Pineapple Mini\n",
      "Pitahaya Red\n",
      "Plum\n",
      "Plum 2\n",
      "Plum 3\n",
      "Pomegranate\n",
      "Pomelo Sweetie\n",
      "Quince\n",
      "Rambutan\n",
      "Raspberry\n",
      "Redcurrant\n",
      "Salak\n",
      "Strawberry\n",
      "Strawberry Wedge\n",
      "Tamarillo\n",
      "Tangelo\n",
      "Tomato 1\n",
      "Tomato 2\n",
      "Tomato 3\n",
      "Tomato 4\n",
      "Tomato Cherry Red\n",
      "Tomato Maroon\n",
      "Tomato Yellow\n",
      "Walnut\n"
     ]
    }
   ],
   "source": [
    "X_train = []\n",
    "y_train = []\n",
    "X_train_vgg = []\n",
    "\n",
    "for label in os.listdir('Training/'):\n",
    "    print(label)\n",
    "    for path in os.listdir('Training/' +  label + '/'):\n",
    "        X_train.append(load_image('Training/' +  label + '/' + path))\n",
    "        y_train.append(label)\n",
    "        #X_train_vgg.append(load_image_keras('Training/' +  label + '/' + path))"
   ]
  },
  {
   "cell_type": "code",
   "execution_count": 19,
   "metadata": {
    "scrolled": true
   },
   "outputs": [
    {
     "name": "stdout",
     "output_type": "stream",
     "text": [
      "Apple Braeburn\n",
      "Apple Crimson Snow\n",
      "Apple Golden 1\n",
      "Apple Golden 2\n",
      "Apple Golden 3\n",
      "Apple Granny Smith\n",
      "Apple Pink Lady\n",
      "Apple Red 1\n",
      "Apple Red 2\n",
      "Apple Red 3\n",
      "Apple Red Delicious\n",
      "Apple Red Yellow 1\n",
      "Apple Red Yellow 2\n",
      "Apricot\n",
      "Avocado\n",
      "Avocado ripe\n",
      "Banana\n",
      "Banana Lady Finger\n",
      "Banana Red\n",
      "Cactus fruit\n",
      "Cantaloupe 1\n",
      "Cantaloupe 2\n",
      "Carambula\n",
      "Cherry 1\n",
      "Cherry 2\n",
      "Cherry Rainier\n",
      "Cherry Wax Black\n",
      "Cherry Wax Red\n",
      "Cherry Wax Yellow\n",
      "Chestnut\n",
      "Clementine\n",
      "Cocos\n",
      "Dates\n",
      "Granadilla\n",
      "Grape Blue\n",
      "Grape Pink\n",
      "Grape White\n",
      "Grape White 2\n",
      "Grape White 3\n",
      "Grape White 4\n",
      "Grapefruit Pink\n",
      "Grapefruit White\n",
      "Guava\n",
      "Hazelnut\n",
      "Huckleberry\n",
      "Kaki\n",
      "Kiwi\n",
      "Kohlrabi\n",
      "Kumquats\n",
      "Lemon\n",
      "Lemon Meyer\n",
      "Limes\n",
      "Lychee\n",
      "Mandarine\n",
      "Mango\n",
      "Mangostan\n",
      "Maracuja\n",
      "Melon Piel de Sapo\n",
      "Mulberry\n",
      "Nectarine\n",
      "Orange\n",
      "Papaya\n",
      "Passion Fruit\n",
      "Peach\n",
      "Peach 2\n",
      "Peach Flat\n",
      "Pear\n",
      "Pear Abate\n",
      "Pear Kaiser\n",
      "Pear Monster\n",
      "Pear Red\n",
      "Pear Williams\n",
      "Pepino\n",
      "Pepper Green\n",
      "Pepper Red\n",
      "Pepper Yellow\n",
      "Physalis\n",
      "Physalis with Husk\n",
      "Pineapple\n",
      "Pineapple Mini\n",
      "Pitahaya Red\n",
      "Plum\n",
      "Plum 2\n",
      "Plum 3\n",
      "Pomegranate\n",
      "Pomelo Sweetie\n",
      "Quince\n",
      "Rambutan\n",
      "Raspberry\n",
      "Redcurrant\n",
      "Salak\n",
      "Strawberry\n",
      "Strawberry Wedge\n",
      "Tamarillo\n",
      "Tangelo\n",
      "Tomato 1\n",
      "Tomato 2\n",
      "Tomato 3\n",
      "Tomato 4\n",
      "Tomato Cherry Red\n",
      "Tomato Maroon\n",
      "Tomato Yellow\n",
      "Walnut\n"
     ]
    }
   ],
   "source": [
    "X_test = []\n",
    "y_test = []\n",
    "X_test_vgg = []\n",
    "\n",
    "for label in os.listdir('Test/'):\n",
    "    print(label)\n",
    "    for path in os.listdir('Test/' +  label + '/'):\n",
    "        X_test.append(load_image('Test/' +  label + '/' + path))\n",
    "        y_test.append(label)\n",
    "        #X_test_vgg.append(load_image_keras('Test/' +  label + '/' + path))"
   ]
  },
  {
   "cell_type": "markdown",
   "metadata": {},
   "source": [
    "# Initial Data Exploration"
   ]
  },
  {
   "cell_type": "code",
   "execution_count": 20,
   "metadata": {
    "scrolled": true
   },
   "outputs": [
    {
     "data": {
      "text/plain": [
       "array([[[[1.        , 1.        , 1.        ],\n",
       "         [1.        , 1.        , 1.        ],\n",
       "         [1.        , 1.        , 1.        ],\n",
       "         ...,\n",
       "         [1.        , 1.        , 1.        ],\n",
       "         [1.        , 1.        , 1.        ],\n",
       "         [1.        , 1.        , 1.        ]],\n",
       "\n",
       "        [[1.        , 1.        , 1.        ],\n",
       "         [1.        , 1.        , 1.        ],\n",
       "         [1.        , 1.        , 1.        ],\n",
       "         ...,\n",
       "         [1.        , 1.        , 1.        ],\n",
       "         [1.        , 1.        , 1.        ],\n",
       "         [1.        , 1.        , 1.        ]],\n",
       "\n",
       "        [[1.        , 1.        , 1.        ],\n",
       "         [1.        , 1.        , 1.        ],\n",
       "         [1.        , 1.        , 1.        ],\n",
       "         ...,\n",
       "         [1.        , 1.        , 1.        ],\n",
       "         [1.        , 1.        , 1.        ],\n",
       "         [1.        , 1.        , 1.        ]],\n",
       "\n",
       "        ...,\n",
       "\n",
       "        [[1.        , 1.        , 1.        ],\n",
       "         [1.        , 1.        , 1.        ],\n",
       "         [1.        , 1.        , 1.        ],\n",
       "         ...,\n",
       "         [1.        , 0.99215686, 1.        ],\n",
       "         [1.        , 1.        , 1.        ],\n",
       "         [1.        , 1.        , 1.        ]],\n",
       "\n",
       "        [[1.        , 1.        , 1.        ],\n",
       "         [1.        , 1.        , 1.        ],\n",
       "         [1.        , 1.        , 1.        ],\n",
       "         ...,\n",
       "         [1.        , 1.        , 1.        ],\n",
       "         [1.        , 1.        , 1.        ],\n",
       "         [1.        , 1.        , 1.        ]],\n",
       "\n",
       "        [[1.        , 1.        , 1.        ],\n",
       "         [1.        , 1.        , 1.        ],\n",
       "         [1.        , 1.        , 1.        ],\n",
       "         ...,\n",
       "         [1.        , 1.        , 1.        ],\n",
       "         [1.        , 1.        , 1.        ],\n",
       "         [1.        , 1.        , 1.        ]]]], dtype=float32)"
      ]
     },
     "execution_count": 20,
     "metadata": {},
     "output_type": "execute_result"
    }
   ],
   "source": [
    "X_train[np.random.randint(53177)]/255."
   ]
  },
  {
   "cell_type": "code",
   "execution_count": 21,
   "metadata": {
    "scrolled": true
   },
   "outputs": [
    {
     "data": {
      "text/plain": [
       "<matplotlib.image.AxesImage at 0x20cfa297668>"
      ]
     },
     "execution_count": 21,
     "metadata": {},
     "output_type": "execute_result"
    },
    {
     "data": {
      "image/png": "[encoded data removed]",
      "text/plain": [
       "<Figure size 432x288 with 1 Axes>"
      ]
     },
     "metadata": {
      "needs_background": "light"
     },
     "output_type": "display_data"
    }
   ],
   "source": [
    "plt.imshow(image.load_img('Training\\Cactus fruit\\9_100.jpg', target_size=(56,56)))"
   ]
  },
  {
   "cell_type": "code",
   "execution_count": 22,
   "metadata": {},
   "outputs": [],
   "source": [
    "occurences = {i: j for i,j in np.array(np.unique(y_train, return_counts = True)).T}"
   ]
  },
  {
   "cell_type": "code",
   "execution_count": 23,
   "metadata": {
    "scrolled": true
   },
   "outputs": [
    {
     "name": "stdout",
     "output_type": "stream",
     "text": [
      "Grape Blue -> # Occurences : 984\n",
      "Plum 3 -> # Occurences : 900\n",
      "Tomato 3 -> # Occurences : 738\n",
      "Tomato 1 -> # Occurences : 738\n",
      "Strawberry Wedge -> # Occurences : 738\n",
      "Peach 2 -> # Occurences : 738\n",
      "Melon Piel de Sapo -> # Occurences : 738\n",
      "Cherry Rainier -> # Occurences : 738\n",
      "Cherry 2 -> # Occurences : 738\n",
      "Walnut -> # Occurences : 735\n",
      "Tomato 2 -> # Occurences : 672\n",
      "Apple Red Yellow 2 -> # Occurences : 672\n",
      "Pepper Yellow -> # Occurences : 666\n",
      "Pepper Red -> # Occurences : 666\n",
      "Pear Red -> # Occurences : 666\n",
      "Pineapple Mini -> # Occurences : 493\n",
      "Tomato Cherry Red -> # Occurences : 492\n",
      "Strawberry -> # Occurences : 492\n",
      "Redcurrant -> # Occurences : 492\n",
      "Rambutan -> # Occurences : 492\n",
      "Pomegranate -> # Occurences : 492\n",
      "Physalis with Husk -> # Occurences : 492\n",
      "Physalis -> # Occurences : 492\n",
      "Pear -> # Occurences : 492\n",
      "Peach Flat -> # Occurences : 492\n",
      "Peach -> # Occurences : 492\n",
      "Papaya -> # Occurences : 492\n",
      "Nectarine -> # Occurences : 492\n",
      "Mulberry -> # Occurences : 492\n",
      "Lemon -> # Occurences : 492\n",
      "Grapefruit White -> # Occurences : 492\n",
      "Grape White 3 -> # Occurences : 492\n",
      "Grape Pink -> # Occurences : 492\n",
      "Cherry Wax Yellow -> # Occurences : 492\n",
      "Cherry Wax Red -> # Occurences : 492\n",
      "Cherry Wax Black -> # Occurences : 492\n",
      "Cherry 1 -> # Occurences : 492\n",
      "Cantaloupe 2 -> # Occurences : 492\n",
      "Cantaloupe 1 -> # Occurences : 492\n",
      "Apricot -> # Occurences : 492\n",
      "Apple Red Yellow 1 -> # Occurences : 492\n",
      "Apple Red 2 -> # Occurences : 492\n",
      "Apple Red 1 -> # Occurences : 492\n",
      "Apple Granny Smith -> # Occurences : 492\n",
      "Apple Golden 2 -> # Occurences : 492\n",
      "Apple Golden 1 -> # Occurences : 492\n",
      "Apple Braeburn -> # Occurences : 492\n",
      "Avocado ripe -> # Occurences : 491\n",
      "Tangelo -> # Occurences : 490\n",
      "Tamarillo -> # Occurences : 490\n",
      "Salak -> # Occurences : 490\n",
      "Raspberry -> # Occurences : 490\n",
      "Quince -> # Occurences : 490\n",
      "Pitahaya Red -> # Occurences : 490\n",
      "Pineapple -> # Occurences : 490\n",
      "Pepino -> # Occurences : 490\n",
      "Pear Williams -> # Occurences : 490\n",
      "Pear Monster -> # Occurences : 490\n",
      "Pear Abate -> # Occurences : 490\n",
      "Passion Fruit -> # Occurences : 490\n",
      "Maracuja -> # Occurences : 490\n",
      "Mango -> # Occurences : 490\n",
      "Mandarine -> # Occurences : 490\n",
      "Lychee -> # Occurences : 490\n",
      "Limes -> # Occurences : 490\n",
      "Lemon Meyer -> # Occurences : 490\n",
      "Kumquats -> # Occurences : 490\n",
      "Kaki -> # Occurences : 490\n",
      "Huckleberry -> # Occurences : 490\n",
      "Guava -> # Occurences : 490\n",
      "Grapefruit Pink -> # Occurences : 490\n",
      "Grape White 2 -> # Occurences : 490\n",
      "Grape White -> # Occurences : 490\n",
      "Granadilla -> # Occurences : 490\n",
      "Dates -> # Occurences : 490\n",
      "Cocos -> # Occurences : 490\n",
      "Clementine -> # Occurences : 490\n",
      "Carambula -> # Occurences : 490\n",
      "Cactus fruit -> # Occurences : 490\n",
      "Banana Red -> # Occurences : 490\n",
      "Banana -> # Occurences : 490\n",
      "Apple Red Delicious -> # Occurences : 490\n",
      "Apple Golden 3 -> # Occurences : 481\n",
      "Tomato 4 -> # Occurences : 479\n",
      "Orange -> # Occurences : 479\n",
      "Kohlrabi -> # Occurences : 471\n",
      "Grape White 4 -> # Occurences : 471\n",
      "Kiwi -> # Occurences : 466\n",
      "Hazelnut -> # Occurences : 464\n",
      "Tomato Yellow -> # Occurences : 459\n",
      "Apple Pink Lady -> # Occurences : 456\n",
      "Pomelo Sweetie -> # Occurences : 450\n",
      "Chestnut -> # Occurences : 450\n",
      "Banana Lady Finger -> # Occurences : 450\n",
      "Plum -> # Occurences : 447\n",
      "Pepper Green -> # Occurences : 444\n",
      "Apple Crimson Snow -> # Occurences : 444\n",
      "Apple Red 3 -> # Occurences : 429\n",
      "Avocado -> # Occurences : 427\n",
      "Plum 2 -> # Occurences : 420\n",
      "Tomato Maroon -> # Occurences : 367\n",
      "Pear Kaiser -> # Occurences : 300\n",
      "Mangostan -> # Occurences : 300\n"
     ]
    }
   ],
   "source": [
    "#They were too much data to plot bar it, I prefered to see the occurences by printing it.\n",
    "for i, j in reversed(sorted([(value,key) for (key,value) in occurences.items()])):\n",
    "    print(j, '-> # Occurences :', i) "
   ]
  },
  {
   "cell_type": "markdown",
   "metadata": {},
   "source": [
    "# Data Cleansing"
   ]
  },
  {
   "cell_type": "markdown",
   "metadata": {},
   "source": [
    "The data is from Kaggle, I could open all the images, they all belong to a proper label.\n",
    "\n",
    "· Data types : All the values from the image are float. <br>\n",
    "· Ranges : I am going to normalize/scale those value in order to be in the [0-1]. <br>\n",
    "· Emptiness : No empty values. <br>\n",
    "· Uniqueness : No duplicates. <br>\n",
    "· Set memberships : No. <br>\n",
    "· Foreign key set : No. <br>\n",
    "· Regular expressions : No. <br>\n",
    "· Cross-field validation : No. <br>"
   ]
  },
  {
   "cell_type": "code",
   "execution_count": 24,
   "metadata": {},
   "outputs": [],
   "source": [
    "#Creation of the label\n",
    "fruit_to_label = {i:j for j,i in enumerate(np.unique(y_train))}\n",
    "label_to_fruit = {j:i for j,i in enumerate(np.unique(y_train))}\n",
    "y_train = [fruit_to_label[i] for i in y_train]\n",
    "y_test = [fruit_to_label[i] for i in y_test]"
   ]
  },
  {
   "cell_type": "markdown",
   "metadata": {},
   "source": [
    "# Feature Creation"
   ]
  },
  {
   "cell_type": "markdown",
   "metadata": {},
   "source": [
    "· Missing values : No. <br>\n",
    "· Randomize the data : At the moment we have the data sorted, it is better for the train (and moreover if we do deep learning) to have more variance in the batches. <br>\n",
    "· Scaling / Normalizing / Centering : Standart scaler after flatten it. <br>\n",
    "· Filtering : No. <br>\n",
    "· Discretizing Continuous fields : No. <br>"
   ]
  },
  {
   "cell_type": "code",
   "execution_count": 25,
   "metadata": {},
   "outputs": [],
   "source": [
    "np.random.seed(1)\n",
    "permutation = np.random.permutation(len(y_train))\n",
    "permutation2 = np.random.permutation(len(y_test))"
   ]
  },
  {
   "cell_type": "code",
   "execution_count": 26,
   "metadata": {},
   "outputs": [],
   "source": [
    "X_train = np.array(X_train).reshape(len(X_train), 56, 56, 3)[permutation]\n",
    "y_train = np.array(y_train)[permutation]"
   ]
  },
  {
   "cell_type": "code",
   "execution_count": 27,
   "metadata": {},
   "outputs": [],
   "source": [
    "X_test = np.array(X_test).reshape(len(X_test), 56, 56, 3)[permutation2]\n",
    "y_test = np.array(y_test)[permutation2]"
   ]
  },
  {
   "cell_type": "code",
   "execution_count": 28,
   "metadata": {},
   "outputs": [
    {
     "name": "stdout",
     "output_type": "stream",
     "text": [
      "[28 24 34  1 37 64 39 95  5 96]\n",
      "[56 36 45 38 61 50 27 24 66 97]\n"
     ]
    }
   ],
   "source": [
    "print(y_train[:10])\n",
    "print(y_test[:10])"
   ]
  },
  {
   "cell_type": "markdown",
   "metadata": {},
   "source": [
    "# Transformed Features"
   ]
  },
  {
   "cell_type": "markdown",
   "metadata": {},
   "source": [
    "##### For Random Forst"
   ]
  },
  {
   "cell_type": "code",
   "execution_count": null,
   "metadata": {},
   "outputs": [],
   "source": [
    "from sklearn.preprocessing import StandardScaler\n",
    "\n",
    "scaler = StandardScaler()\n",
    "X_train_scaled = [i.flatten() for i in X_train]\n",
    "X_train_scaled = scaler.fit_transform(X_train_scaled)\n",
    "\n",
    "X_test_scaled = [i.flatten() for i in X_test]\n",
    "X_test_scaled = scaler.transform(X_test_scaled)\n",
    "\n",
    "print(X_train_scaled.shape)\n",
    "print(X_test_scaled.shape)\n",
    "\n",
    "from sklearn.decomposition import PCA\n",
    "\n",
    "pca = PCA(n_components = .90, svd_solver='full') # keep 95% of the variance of training set\n",
    "pca_train_result = pca.fit_transform(X_train_scaled)\n",
    "pca_test_result = pca.transform(X_test_scaled)\n",
    "\n",
    "print(pca_train_result.shape)\n",
    "print(pca_test_result.shape)"
   ]
  },
  {
   "cell_type": "markdown",
   "metadata": {},
   "source": [
    "##### For DeepLearning"
   ]
  },
  {
   "cell_type": "code",
   "execution_count": 16,
   "metadata": {},
   "outputs": [
    {
     "name": "stdout",
     "output_type": "stream",
     "text": [
      "WARNING:tensorflow:From C:\\Users\\Antoine\\Anaconda3\\lib\\site-packages\\tensorflow\\python\\framework\\op_def_library.py:263: colocate_with (from tensorflow.python.framework.ops) is deprecated and will be removed in a future version.\n",
      "Instructions for updating:\n",
      "Colocations handled automatically by placer.\n"
     ]
    }
   ],
   "source": [
    "from keras.applications.vgg16 import VGG16\n",
    "vgg16_model = VGG16(include_top=False, weights='imagenet')"
   ]
  },
  {
   "cell_type": "code",
   "execution_count": 17,
   "metadata": {},
   "outputs": [],
   "source": [
    "X_train_vgg = [vgg16_model.predict(i.reshape(1,224,224,3)) for i in X_train_vgg]\n",
    "X_test_vgg = [vgg16_model.predict(i.reshape(1,224,224,3)) for i in X_test_vgg]"
   ]
  },
  {
   "cell_type": "code",
   "execution_count": 18,
   "metadata": {},
   "outputs": [],
   "source": [
    "X_train_vgg = np.array(X_train_vgg).reshape(len(X_train_vgg), 7, 7, 512)[permutation]\n",
    "X_test_vgg = np.array(X_test_vgg).reshape(len(X_test_vgg), 7, 7, 512)[permutation2]"
   ]
  },
  {
   "cell_type": "markdown",
   "metadata": {},
   "source": [
    "### Model Definition"
   ]
  },
  {
   "cell_type": "markdown",
   "metadata": {},
   "source": [
    "- Choose, justify and apply a model performance indicator :\n",
    "    - Precision/Recall for all class\n",
    "    - Precision/Recall score for each class\n",
    "- ConvNetwork for DL and RandomForest for Non-DL"
   ]
  },
  {
   "cell_type": "markdown",
   "metadata": {},
   "source": [
    "# Random Forest"
   ]
  },
  {
   "cell_type": "code",
   "execution_count": 11,
   "metadata": {},
   "outputs": [],
   "source": [
    "from sklearn.ensemble import RandomForestClassifier\n",
    "from sklearn.metrics import accuracy_score"
   ]
  },
  {
   "cell_type": "code",
   "execution_count": 41,
   "metadata": {},
   "outputs": [],
   "source": [
    "forest = RandomForestClassifier(n_estimators=20)\n",
    "forest = forest.fit(pca_train_result, y_train)"
   ]
  },
  {
   "cell_type": "code",
   "execution_count": 42,
   "metadata": {},
   "outputs": [],
   "source": [
    "test_predictions = forest.predict(pca_test_result)"
   ]
  },
  {
   "cell_type": "markdown",
   "metadata": {},
   "source": [
    "##### Results"
   ]
  },
  {
   "cell_type": "code",
   "execution_count": 43,
   "metadata": {},
   "outputs": [
    {
     "name": "stdout",
     "output_type": "stream",
     "text": [
      "Accuracy with RandomForest:  88.17035584197254\n"
     ]
    }
   ],
   "source": [
    "precision = accuracy_score(test_predictions, y_test) * 100\n",
    "print(\"Accuracy with RandomForest: \", precision)"
   ]
  },
  {
   "cell_type": "code",
   "execution_count": 68,
   "metadata": {},
   "outputs": [],
   "source": [
    "def pred_accuracy_each_label(pred, true):\n",
    "    pred_dict = {i: [0, 0, 0] for i in list(fruit_to_label.keys())}  # True positive, False positive, False Negative\n",
    "    measure_dict = {i: [0, 0, 0] for i in list(fruit_to_label.keys())} # Precision, Recall, F1 score\n",
    "    for i in range(len(pred)):\n",
    "        if pred[i] == true[i]:\n",
    "            pred_dict[label_to_fruit[true[i]]] = [sum(i) for i in zip([1,0,0],pred_dict[label_to_fruit[true[i]]])]   \n",
    "        else:\n",
    "            pred_dict[label_to_fruit[true[i]]] = [sum(i) for i in zip([0,0,1], pred_dict[label_to_fruit[true[i]]])]\n",
    "            pred_dict[label_to_fruit[pred[i]]] = [sum(i) for i in zip([0,1,0], pred_dict[label_to_fruit[pred[i]]])]\n",
    "            \n",
    "    for key in pred_dict.keys():\n",
    "        if pred_dict[key][0] == 0:\n",
    "            measure_dict[key][0] = 0\n",
    "            measure_dict[key][1] = 0\n",
    "            measure_dict[key][2] = 0\n",
    "        else:\n",
    "            measure_dict[key][0] = np.round(pred_dict[key][0] / (pred_dict[key][0] + pred_dict[key][1]), 3)\n",
    "            measure_dict[key][1] = np.round(pred_dict[key][0] / (pred_dict[key][0] + pred_dict[key][2]), 3)\n",
    "            measure_dict[key][2] = np.round(2 * (measure_dict[key][0] * measure_dict[key][1]) / (measure_dict[key][0] + measure_dict[key][1]), 3)\n",
    "\n",
    "    return pred_dict, measure_dict"
   ]
  },
  {
   "cell_type": "code",
   "execution_count": 69,
   "metadata": {},
   "outputs": [],
   "source": [
    "import operator\n",
    "\n",
    "def top5_worst(pred, true):\n",
    "    pred = pred_accuracy_each_label(pred, true)[1]\n",
    "    print('[Precision, Recall, F1_score]')\n",
    "    precision = sorted(pred.items(), key=lambda kv: kv[1][0])\n",
    "    print('*********************************************')\n",
    "    print(\"5 worst Precision :\")\n",
    "    for i in precision[:5]:\n",
    "        print('    - ', i[0], ':', i[1])\n",
    "    print('*********************************************')\n",
    "    recall = sorted(pred.items(), key=lambda kv: kv[1][1])\n",
    "    print(\"5 worst Recall :\")\n",
    "    for i in recall[:5]:\n",
    "        print('    - ', i[0], ':', i[1])\n",
    "    f1_score = sorted(pred.items(), key=lambda kv: kv[1][2])\n",
    "    print('*********************************************')\n",
    "    print(\"5 worst F1_score :\")\n",
    "    for i in f1_score[:5]:\n",
    "        print('    - ', i[0], ':', i[1])\n",
    "    print('*********************************************')\n",
    "    return precision, recall, f1_score"
   ]
  },
  {
   "cell_type": "code",
   "execution_count": 125,
   "metadata": {},
   "outputs": [
    {
     "name": "stdout",
     "output_type": "stream",
     "text": [
      "[Precision, Recall, F1_score]\n",
      "*********************************************\n",
      "5 worst Precision :\n",
      "    -  Nectarine : [0.436, 0.354, 0.391]\n",
      "    -  Apple Golden 3 : [0.549, 0.938, 0.693]\n",
      "    -  Apple Red 2 : [0.624, 0.707, 0.663]\n",
      "    -  Apple Golden 1 : [0.64, 0.671, 0.655]\n",
      "    -  Banana : [0.656, 0.747, 0.699]\n",
      "*********************************************\n",
      "5 worst Recall :\n",
      "    -  Nectarine : [0.436, 0.354, 0.391]\n",
      "    -  Plum : [0.976, 0.543, 0.698]\n",
      "    -  Apple Red 1 : [0.691, 0.573, 0.626]\n",
      "    -  Banana Red : [0.828, 0.578, 0.681]\n",
      "    -  Apple Red 3 : [0.754, 0.618, 0.679]\n",
      "*********************************************\n",
      "5 worst F1_score :\n",
      "    -  Nectarine : [0.436, 0.354, 0.391]\n",
      "    -  Apple Red 1 : [0.691, 0.573, 0.626]\n",
      "    -  Apple Golden 1 : [0.64, 0.671, 0.655]\n",
      "    -  Apple Red 2 : [0.624, 0.707, 0.663]\n",
      "    -  Apple Red 3 : [0.754, 0.618, 0.679]\n",
      "*********************************************\n"
     ]
    }
   ],
   "source": [
    "_, _, _ = top5_worst(test_predictions, y_test)"
   ]
  },
  {
   "cell_type": "markdown",
   "metadata": {},
   "source": [
    "# DeepLearning CNN"
   ]
  },
  {
   "cell_type": "code",
   "execution_count": 36,
   "metadata": {},
   "outputs": [],
   "source": [
    "import keras\n",
    "from keras.models import Sequential\n",
    "from keras.layers import Dense, Dropout, Flatten\n",
    "from keras.layers import Conv2D, MaxPooling2D"
   ]
  },
  {
   "cell_type": "code",
   "execution_count": 37,
   "metadata": {},
   "outputs": [],
   "source": [
    "batch_size = 128\n",
    "num_classes = len(label_to_fruit)\n",
    "epochs = 10\n",
    "\n",
    "y_train = keras.utils.to_categorical(y_train, num_classes)\n",
    "y_test = keras.utils.to_categorical(y_test, num_classes)"
   ]
  },
  {
   "cell_type": "code",
   "execution_count": 38,
   "metadata": {},
   "outputs": [
    {
     "name": "stdout",
     "output_type": "stream",
     "text": [
      "WARNING:tensorflow:From C:\\Users\\Antoine\\Anaconda3\\lib\\site-packages\\tensorflow\\python\\framework\\op_def_library.py:263: colocate_with (from tensorflow.python.framework.ops) is deprecated and will be removed in a future version.\n",
      "Instructions for updating:\n",
      "Colocations handled automatically by placer.\n",
      "WARNING:tensorflow:From C:\\Users\\Antoine\\Anaconda3\\lib\\site-packages\\keras\\backend\\tensorflow_backend.py:3445: calling dropout (from tensorflow.python.ops.nn_ops) with keep_prob is deprecated and will be removed in a future version.\n",
      "Instructions for updating:\n",
      "Please use `rate` instead of `keep_prob`. Rate should be set to `rate = 1 - keep_prob`.\n"
     ]
    }
   ],
   "source": [
    "model = Sequential()\n",
    "model.add(Conv2D(256, kernel_size=(3, 3), activation='relu', input_shape=(7,7,512)))\n",
    "model.add(Dropout(0.3))\n",
    "model.add(MaxPooling2D(pool_size=(2, 2)))\n",
    "model.add(Flatten())\n",
    "model.add(Dense(1024, activation='relu'))\n",
    "model.add(Dense(units=512, activation=\"relu\", kernel_initializer=\"random_uniform\", bias_initializer=\"zeros\"))\n",
    "model.add(Dropout(0.3))\n",
    "model.add(Dense(units=128, activation=\"relu\", kernel_initializer=\"random_uniform\", bias_initializer=\"zeros\"))\n",
    "model.add(Dense(units=num_classes, activation=\"softmax\"))"
   ]
  },
  {
   "cell_type": "code",
   "execution_count": 39,
   "metadata": {},
   "outputs": [],
   "source": [
    "model.compile(loss='categorical_crossentropy', optimizer='adam',  metrics=['accuracy'])"
   ]
  },
  {
   "cell_type": "code",
   "execution_count": 40,
   "metadata": {},
   "outputs": [
    {
     "name": "stdout",
     "output_type": "stream",
     "text": [
      "WARNING:tensorflow:From C:\\Users\\Antoine\\Anaconda3\\lib\\site-packages\\tensorflow\\python\\ops\\math_ops.py:3066: to_int32 (from tensorflow.python.ops.math_ops) is deprecated and will be removed in a future version.\n",
      "Instructions for updating:\n",
      "Use tf.cast instead.\n",
      "Epoch 1/10\n",
      "53177/53177 [==============================] - 194s 4ms/step - loss: 0.6687 - acc: 0.8492\n",
      "Epoch 2/10\n",
      "53177/53177 [==============================] - 153s 3ms/step - loss: 0.0538 - acc: 0.9856\n",
      "Epoch 3/10\n",
      "53177/53177 [==============================] - 159s 3ms/step - loss: 0.0422 - acc: 0.9894\n",
      "Epoch 4/10\n",
      "53177/53177 [==============================] - 162s 3ms/step - loss: 0.0672 - acc: 0.9874\n",
      "Epoch 5/10\n",
      "53177/53177 [==============================] - 162s 3ms/step - loss: 0.1081 - acc: 0.9857\n",
      "Epoch 6/10\n",
      "53177/53177 [==============================] - 155s 3ms/step - loss: 0.0713 - acc: 0.9904\n",
      "Epoch 7/10\n",
      "53177/53177 [==============================] - 168s 3ms/step - loss: 0.1070 - acc: 0.9886\n",
      "Epoch 8/10\n",
      "53177/53177 [==============================] - 157s 3ms/step - loss: 0.1148 - acc: 0.9889\n",
      "Epoch 9/10\n",
      "53177/53177 [==============================] - 155s 3ms/step - loss: 0.3979 - acc: 0.9716\n",
      "Epoch 10/10\n",
      "53177/53177 [==============================] - 162s 3ms/step - loss: 0.5111 - acc: 0.9654\n"
     ]
    },
    {
     "data": {
      "text/plain": [
       "<keras.callbacks.History at 0x20cf2b53eb8>"
      ]
     },
     "execution_count": 40,
     "metadata": {},
     "output_type": "execute_result"
    }
   ],
   "source": [
    "model.fit(X_train_vgg, y_train, batch_size=batch_size, epochs=epochs)"
   ]
  },
  {
   "cell_type": "code",
   "execution_count": 41,
   "metadata": {},
   "outputs": [
    {
     "name": "stdout",
     "output_type": "stream",
     "text": [
      "17845/17845 [==============================] - 42s 2ms/step\n",
      "Test loss: 0.5209707763028141\n",
      "Test accuracy: 0.9621182404068145\n"
     ]
    }
   ],
   "source": [
    "score = model.evaluate(X_test_vgg, y_test, verbose=1)\n",
    "print('Test loss:', score[0])\n",
    "print('Test accuracy:', score[1])"
   ]
  },
  {
   "cell_type": "code",
   "execution_count": 42,
   "metadata": {},
   "outputs": [],
   "source": [
    "y_pred = model.predict(X_test_vgg)"
   ]
  },
  {
   "cell_type": "code",
   "execution_count": 49,
   "metadata": {},
   "outputs": [
    {
     "data": {
      "text/plain": [
       "array([[0., 0., 0., ..., 0., 0., 0.],\n",
       "       [0., 0., 0., ..., 0., 0., 0.],\n",
       "       [0., 0., 0., ..., 0., 0., 0.],\n",
       "       ...,\n",
       "       [0., 0., 0., ..., 0., 0., 0.],\n",
       "       [0., 0., 0., ..., 0., 0., 0.],\n",
       "       [0., 0., 0., ..., 0., 0., 0.]], dtype=float32)"
      ]
     },
     "execution_count": 49,
     "metadata": {},
     "output_type": "execute_result"
    }
   ],
   "source": [
    "y_test"
   ]
  },
  {
   "cell_type": "code",
   "execution_count": 50,
   "metadata": {},
   "outputs": [
    {
     "name": "stdout",
     "output_type": "stream",
     "text": [
      "Accuracy with DeepLearning:  96.21182404034744\n"
     ]
    }
   ],
   "source": [
    "precision = accuracy_score(np.argmax(y_pred, axis=1), np.argmax(y_test, axis=1)) * 100\n",
    "print(\"Accuracy with DeepLearning: \", precision)"
   ]
  },
  {
   "cell_type": "code",
   "execution_count": 72,
   "metadata": {},
   "outputs": [],
   "source": [
    "y_pred = np.argmax(y_pred, axis=1)\n",
    "y_test = np.argmax(y_test, axis=1)"
   ]
  },
  {
   "cell_type": "code",
   "execution_count": 73,
   "metadata": {},
   "outputs": [
    {
     "name": "stdout",
     "output_type": "stream",
     "text": [
      "[Precision, Recall, F1_score]\n",
      "*********************************************\n",
      "5 worst Precision :\n",
      "    -  Pineapple Mini : [0, 0, 0]\n",
      "    -  Kiwi : [0.51, 1.0, 0.675]\n",
      "    -  Rambutan : [0.529, 1.0, 0.692]\n",
      "    -  Chestnut : [0.614, 1.0, 0.761]\n",
      "    -  Nectarine : [0.841, 1.0, 0.914]\n",
      "*********************************************\n",
      "5 worst Recall :\n",
      "    -  Pineapple Mini : [0, 0, 0]\n",
      "    -  Cocos : [1.0, 0.024, 0.047]\n",
      "    -  Peach : [0.914, 0.713, 0.801]\n",
      "    -  Apple Red 1 : [0.983, 0.726, 0.835]\n",
      "    -  Mangostan : [0.942, 0.794, 0.862]\n",
      "*********************************************\n",
      "5 worst F1_score :\n",
      "    -  Pineapple Mini : [0, 0, 0]\n",
      "    -  Cocos : [1.0, 0.024, 0.047]\n",
      "    -  Kiwi : [0.51, 1.0, 0.675]\n",
      "    -  Rambutan : [0.529, 1.0, 0.692]\n",
      "    -  Chestnut : [0.614, 1.0, 0.761]\n",
      "*********************************************\n"
     ]
    }
   ],
   "source": [
    "_, _, _ = top5_worst(y_pred, y_test)"
   ]
  },
  {
   "cell_type": "code",
   "execution_count": 77,
   "metadata": {},
   "outputs": [
    {
     "data": {
      "text/plain": [
       "['Rambutan',\n",
       " 'Rambutan',\n",
       " 'Rambutan',\n",
       " 'Rambutan',\n",
       " 'Rambutan',\n",
       " 'Rambutan',\n",
       " 'Rambutan',\n",
       " 'Rambutan',\n",
       " 'Rambutan',\n",
       " 'Rambutan',\n",
       " 'Rambutan',\n",
       " 'Rambutan',\n",
       " 'Rambutan',\n",
       " 'Rambutan',\n",
       " 'Rambutan',\n",
       " 'Rambutan',\n",
       " 'Rambutan',\n",
       " 'Rambutan',\n",
       " 'Strawberry Wedge',\n",
       " 'Rambutan',\n",
       " 'Rambutan',\n",
       " 'Rambutan',\n",
       " 'Rambutan',\n",
       " 'Rambutan',\n",
       " 'Rambutan',\n",
       " 'Rambutan',\n",
       " 'Rambutan',\n",
       " 'Strawberry Wedge',\n",
       " 'Rambutan',\n",
       " 'Rambutan',\n",
       " 'Rambutan',\n",
       " 'Rambutan',\n",
       " 'Strawberry Wedge',\n",
       " 'Rambutan',\n",
       " 'Rambutan',\n",
       " 'Strawberry Wedge',\n",
       " 'Rambutan',\n",
       " 'Rambutan',\n",
       " 'Rambutan',\n",
       " 'Rambutan',\n",
       " 'Rambutan',\n",
       " 'Rambutan',\n",
       " 'Rambutan',\n",
       " 'Rambutan',\n",
       " 'Rambutan',\n",
       " 'Rambutan',\n",
       " 'Strawberry Wedge',\n",
       " 'Rambutan',\n",
       " 'Rambutan',\n",
       " 'Rambutan',\n",
       " 'Rambutan',\n",
       " 'Rambutan',\n",
       " 'Rambutan',\n",
       " 'Rambutan',\n",
       " 'Rambutan',\n",
       " 'Rambutan',\n",
       " 'Rambutan',\n",
       " 'Strawberry Wedge',\n",
       " 'Rambutan',\n",
       " 'Rambutan',\n",
       " 'Rambutan',\n",
       " 'Rambutan',\n",
       " 'Rambutan',\n",
       " 'Rambutan',\n",
       " 'Rambutan',\n",
       " 'Rambutan',\n",
       " 'Rambutan',\n",
       " 'Rambutan',\n",
       " 'Rambutan',\n",
       " 'Rambutan',\n",
       " 'Rambutan',\n",
       " 'Rambutan',\n",
       " 'Strawberry Wedge',\n",
       " 'Rambutan',\n",
       " 'Strawberry Wedge',\n",
       " 'Rambutan',\n",
       " 'Strawberry Wedge',\n",
       " 'Rambutan',\n",
       " 'Rambutan',\n",
       " 'Rambutan',\n",
       " 'Rambutan',\n",
       " 'Rambutan',\n",
       " 'Pineapple',\n",
       " 'Rambutan',\n",
       " 'Rambutan',\n",
       " 'Rambutan',\n",
       " 'Rambutan',\n",
       " 'Rambutan',\n",
       " 'Rambutan',\n",
       " 'Rambutan',\n",
       " 'Rambutan',\n",
       " 'Rambutan',\n",
       " 'Rambutan',\n",
       " 'Strawberry Wedge',\n",
       " 'Rambutan',\n",
       " 'Rambutan',\n",
       " 'Strawberry Wedge',\n",
       " 'Strawberry Wedge',\n",
       " 'Rambutan',\n",
       " 'Rambutan',\n",
       " 'Rambutan',\n",
       " 'Rambutan',\n",
       " 'Rambutan',\n",
       " 'Rambutan',\n",
       " 'Rambutan',\n",
       " 'Rambutan',\n",
       " 'Rambutan',\n",
       " 'Rambutan',\n",
       " 'Rambutan',\n",
       " 'Rambutan',\n",
       " 'Rambutan',\n",
       " 'Rambutan',\n",
       " 'Rambutan',\n",
       " 'Rambutan',\n",
       " 'Rambutan',\n",
       " 'Rambutan',\n",
       " 'Rambutan',\n",
       " 'Rambutan',\n",
       " 'Rambutan',\n",
       " 'Rambutan',\n",
       " 'Rambutan',\n",
       " 'Rambutan',\n",
       " 'Strawberry Wedge',\n",
       " 'Strawberry Wedge',\n",
       " 'Rambutan',\n",
       " 'Rambutan',\n",
       " 'Strawberry Wedge',\n",
       " 'Strawberry Wedge',\n",
       " 'Rambutan',\n",
       " 'Rambutan',\n",
       " 'Rambutan',\n",
       " 'Rambutan',\n",
       " 'Rambutan',\n",
       " 'Lychee',\n",
       " 'Rambutan',\n",
       " 'Rambutan',\n",
       " 'Rambutan',\n",
       " 'Rambutan',\n",
       " 'Rambutan',\n",
       " 'Rambutan',\n",
       " 'Rambutan',\n",
       " 'Rambutan',\n",
       " 'Rambutan',\n",
       " 'Rambutan',\n",
       " 'Rambutan',\n",
       " 'Rambutan',\n",
       " 'Rambutan',\n",
       " 'Rambutan',\n",
       " 'Strawberry Wedge',\n",
       " 'Rambutan',\n",
       " 'Rambutan',\n",
       " 'Rambutan',\n",
       " 'Strawberry Wedge',\n",
       " 'Rambutan',\n",
       " 'Rambutan',\n",
       " 'Rambutan',\n",
       " 'Rambutan',\n",
       " 'Rambutan',\n",
       " 'Rambutan',\n",
       " 'Rambutan',\n",
       " 'Rambutan',\n",
       " 'Rambutan',\n",
       " 'Rambutan']"
      ]
     },
     "execution_count": 77,
     "metadata": {},
     "output_type": "execute_result"
    }
   ],
   "source": [
    "[label_to_fruit[i] for i in y_pred[y_test == fruit_to_label['Pineapple Mini']]]"
   ]
  },
  {
   "cell_type": "code",
   "execution_count": 78,
   "metadata": {},
   "outputs": [
    {
     "data": {
      "text/plain": [
       "['Kiwi',\n",
       " 'Kiwi',\n",
       " 'Kiwi',\n",
       " 'Cocos',\n",
       " 'Kiwi',\n",
       " 'Kiwi',\n",
       " 'Kiwi',\n",
       " 'Kiwi',\n",
       " 'Kiwi',\n",
       " 'Kiwi',\n",
       " 'Kiwi',\n",
       " 'Chestnut',\n",
       " 'Kiwi',\n",
       " 'Kiwi',\n",
       " 'Kiwi',\n",
       " 'Chestnut',\n",
       " 'Kiwi',\n",
       " 'Kiwi',\n",
       " 'Kiwi',\n",
       " 'Kiwi',\n",
       " 'Kiwi',\n",
       " 'Kiwi',\n",
       " 'Kiwi',\n",
       " 'Kiwi',\n",
       " 'Kiwi',\n",
       " 'Kiwi',\n",
       " 'Kiwi',\n",
       " 'Kiwi',\n",
       " 'Kiwi',\n",
       " 'Kiwi',\n",
       " 'Kiwi',\n",
       " 'Kiwi',\n",
       " 'Kiwi',\n",
       " 'Kiwi',\n",
       " 'Kiwi',\n",
       " 'Chestnut',\n",
       " 'Kiwi',\n",
       " 'Kiwi',\n",
       " 'Chestnut',\n",
       " 'Kiwi',\n",
       " 'Kiwi',\n",
       " 'Kiwi',\n",
       " 'Kiwi',\n",
       " 'Kiwi',\n",
       " 'Kiwi',\n",
       " 'Kiwi',\n",
       " 'Kiwi',\n",
       " 'Kiwi',\n",
       " 'Chestnut',\n",
       " 'Kiwi',\n",
       " 'Kiwi',\n",
       " 'Chestnut',\n",
       " 'Kiwi',\n",
       " 'Chestnut',\n",
       " 'Kiwi',\n",
       " 'Kiwi',\n",
       " 'Kiwi',\n",
       " 'Kiwi',\n",
       " 'Chestnut',\n",
       " 'Chestnut',\n",
       " 'Kiwi',\n",
       " 'Kiwi',\n",
       " 'Kiwi',\n",
       " 'Kiwi',\n",
       " 'Chestnut',\n",
       " 'Kiwi',\n",
       " 'Kiwi',\n",
       " 'Chestnut',\n",
       " 'Chestnut',\n",
       " 'Kiwi',\n",
       " 'Kiwi',\n",
       " 'Kiwi',\n",
       " 'Chestnut',\n",
       " 'Kiwi',\n",
       " 'Kiwi',\n",
       " 'Kiwi',\n",
       " 'Kiwi',\n",
       " 'Kiwi',\n",
       " 'Kiwi',\n",
       " 'Kiwi',\n",
       " 'Kiwi',\n",
       " 'Kiwi',\n",
       " 'Kiwi',\n",
       " 'Kiwi',\n",
       " 'Kiwi',\n",
       " 'Kiwi',\n",
       " 'Cocos',\n",
       " 'Kiwi',\n",
       " 'Chestnut',\n",
       " 'Kiwi',\n",
       " 'Kiwi',\n",
       " 'Kiwi',\n",
       " 'Kiwi',\n",
       " 'Kiwi',\n",
       " 'Kiwi',\n",
       " 'Kiwi',\n",
       " 'Kiwi',\n",
       " 'Cocos',\n",
       " 'Chestnut',\n",
       " 'Chestnut',\n",
       " 'Kiwi',\n",
       " 'Kiwi',\n",
       " 'Cocos',\n",
       " 'Kiwi',\n",
       " 'Kiwi',\n",
       " 'Kiwi',\n",
       " 'Kiwi',\n",
       " 'Chestnut',\n",
       " 'Kiwi',\n",
       " 'Kiwi',\n",
       " 'Kiwi',\n",
       " 'Kiwi',\n",
       " 'Kiwi',\n",
       " 'Kiwi',\n",
       " 'Kiwi',\n",
       " 'Kiwi',\n",
       " 'Kiwi',\n",
       " 'Kiwi',\n",
       " 'Kiwi',\n",
       " 'Kiwi',\n",
       " 'Kiwi',\n",
       " 'Kiwi',\n",
       " 'Kiwi',\n",
       " 'Kiwi',\n",
       " 'Kiwi',\n",
       " 'Kiwi',\n",
       " 'Kiwi',\n",
       " 'Kiwi',\n",
       " 'Kiwi',\n",
       " 'Kiwi',\n",
       " 'Chestnut',\n",
       " 'Kiwi',\n",
       " 'Kiwi',\n",
       " 'Kiwi',\n",
       " 'Kiwi',\n",
       " 'Kiwi',\n",
       " 'Chestnut',\n",
       " 'Kiwi',\n",
       " 'Kiwi',\n",
       " 'Kiwi',\n",
       " 'Kiwi',\n",
       " 'Kiwi',\n",
       " 'Kiwi',\n",
       " 'Chestnut',\n",
       " 'Kiwi',\n",
       " 'Chestnut',\n",
       " 'Kiwi',\n",
       " 'Kiwi',\n",
       " 'Kiwi',\n",
       " 'Chestnut',\n",
       " 'Kiwi',\n",
       " 'Kiwi',\n",
       " 'Kiwi',\n",
       " 'Chestnut',\n",
       " 'Kiwi',\n",
       " 'Kiwi',\n",
       " 'Kiwi',\n",
       " 'Kiwi',\n",
       " 'Kiwi',\n",
       " 'Kiwi',\n",
       " 'Chestnut',\n",
       " 'Kiwi',\n",
       " 'Kiwi',\n",
       " 'Kiwi',\n",
       " 'Kiwi',\n",
       " 'Kiwi']"
      ]
     },
     "execution_count": 78,
     "metadata": {},
     "output_type": "execute_result"
    }
   ],
   "source": [
    "[label_to_fruit[i] for i in y_pred[y_test == fruit_to_label['Cocos']]]"
   ]
  },
  {
   "cell_type": "code",
   "execution_count": 79,
   "metadata": {},
   "outputs": [
    {
     "data": {
      "text/plain": [
       "['Salak',\n",
       " 'Peach',\n",
       " 'Peach',\n",
       " 'Peach',\n",
       " 'Nectarine',\n",
       " 'Peach',\n",
       " 'Nectarine',\n",
       " 'Peach',\n",
       " 'Nectarine',\n",
       " 'Peach',\n",
       " 'Peach',\n",
       " 'Pomegranate',\n",
       " 'Peach',\n",
       " 'Peach',\n",
       " 'Peach',\n",
       " 'Peach',\n",
       " 'Pomegranate',\n",
       " 'Pomegranate',\n",
       " 'Peach',\n",
       " 'Peach',\n",
       " 'Peach',\n",
       " 'Pomegranate',\n",
       " 'Peach',\n",
       " 'Pomegranate',\n",
       " 'Pomegranate',\n",
       " 'Pomegranate',\n",
       " 'Peach',\n",
       " 'Nectarine',\n",
       " 'Peach',\n",
       " 'Peach',\n",
       " 'Peach',\n",
       " 'Peach',\n",
       " 'Peach',\n",
       " 'Pomegranate',\n",
       " 'Peach',\n",
       " 'Peach',\n",
       " 'Pomegranate',\n",
       " 'Peach',\n",
       " 'Peach',\n",
       " 'Nectarine',\n",
       " 'Peach',\n",
       " 'Nectarine',\n",
       " 'Peach',\n",
       " 'Peach',\n",
       " 'Peach',\n",
       " 'Nectarine',\n",
       " 'Pomegranate',\n",
       " 'Peach',\n",
       " 'Pomegranate',\n",
       " 'Peach',\n",
       " 'Peach',\n",
       " 'Peach',\n",
       " 'Peach',\n",
       " 'Peach',\n",
       " 'Nectarine',\n",
       " 'Peach',\n",
       " 'Peach',\n",
       " 'Peach',\n",
       " 'Peach',\n",
       " 'Peach',\n",
       " 'Nectarine',\n",
       " 'Peach',\n",
       " 'Peach',\n",
       " 'Peach',\n",
       " 'Peach',\n",
       " 'Peach',\n",
       " 'Peach',\n",
       " 'Peach',\n",
       " 'Peach',\n",
       " 'Peach',\n",
       " 'Peach',\n",
       " 'Mangostan',\n",
       " 'Pomegranate',\n",
       " 'Peach',\n",
       " 'Nectarine',\n",
       " 'Pomegranate',\n",
       " 'Peach',\n",
       " 'Peach',\n",
       " 'Peach',\n",
       " 'Pomegranate',\n",
       " 'Peach',\n",
       " 'Peach',\n",
       " 'Peach',\n",
       " 'Peach',\n",
       " 'Nectarine',\n",
       " 'Peach',\n",
       " 'Peach',\n",
       " 'Peach',\n",
       " 'Peach',\n",
       " 'Peach',\n",
       " 'Peach',\n",
       " 'Peach',\n",
       " 'Peach',\n",
       " 'Nectarine',\n",
       " 'Peach',\n",
       " 'Peach',\n",
       " 'Peach',\n",
       " 'Peach',\n",
       " 'Peach',\n",
       " 'Peach',\n",
       " 'Peach',\n",
       " 'Peach',\n",
       " 'Peach',\n",
       " 'Pomegranate',\n",
       " 'Peach',\n",
       " 'Peach',\n",
       " 'Nectarine',\n",
       " 'Peach',\n",
       " 'Peach',\n",
       " 'Nectarine',\n",
       " 'Peach',\n",
       " 'Peach',\n",
       " 'Peach',\n",
       " 'Pomegranate',\n",
       " 'Peach',\n",
       " 'Peach',\n",
       " 'Peach',\n",
       " 'Nectarine',\n",
       " 'Peach',\n",
       " 'Peach',\n",
       " 'Peach',\n",
       " 'Cherry Rainier',\n",
       " 'Salak',\n",
       " 'Peach',\n",
       " 'Nectarine',\n",
       " 'Peach',\n",
       " 'Peach',\n",
       " 'Peach',\n",
       " 'Pomegranate',\n",
       " 'Peach',\n",
       " 'Peach',\n",
       " 'Peach',\n",
       " 'Peach',\n",
       " 'Pomegranate',\n",
       " 'Peach',\n",
       " 'Nectarine',\n",
       " 'Peach',\n",
       " 'Nectarine',\n",
       " 'Peach',\n",
       " 'Peach',\n",
       " 'Peach',\n",
       " 'Peach',\n",
       " 'Peach',\n",
       " 'Nectarine',\n",
       " 'Pomegranate',\n",
       " 'Peach',\n",
       " 'Peach',\n",
       " 'Peach',\n",
       " 'Peach',\n",
       " 'Pomegranate',\n",
       " 'Peach',\n",
       " 'Nectarine',\n",
       " 'Pomegranate',\n",
       " 'Peach',\n",
       " 'Peach',\n",
       " 'Peach',\n",
       " 'Peach',\n",
       " 'Peach',\n",
       " 'Pomegranate',\n",
       " 'Pomegranate',\n",
       " 'Peach',\n",
       " 'Peach',\n",
       " 'Peach',\n",
       " 'Peach']"
      ]
     },
     "execution_count": 79,
     "metadata": {},
     "output_type": "execute_result"
    }
   ],
   "source": [
    "[label_to_fruit[i] for i in y_pred[y_test == fruit_to_label['Peach']]]"
   ]
  },
  {
   "cell_type": "code",
   "execution_count": null,
   "metadata": {},
   "outputs": [],
   "source": []
  }
 ],
 "metadata": {
  "kernelspec": {
   "display_name": "Python 3",
   "language": "python",
   "name": "python3"
  },
  "language_info": {
   "codemirror_mode": {
    "name": "ipython",
    "version": 3
   },
   "file_extension": ".py",
   "mimetype": "text/x-python",
   "name": "python",
   "nbconvert_exporter": "python",
   "pygments_lexer": "ipython3",
   "version": "3.7.3"
  }
 },
 "nbformat": 4,
 "nbformat_minor": 2
}
